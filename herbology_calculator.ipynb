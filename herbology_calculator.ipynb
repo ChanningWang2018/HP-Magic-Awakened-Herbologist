{
 "cells": [
  {
   "cell_type": "code",
   "execution_count": 1,
   "id": "f3870be2-b121-4685-98fb-8ac384594e7f",
   "metadata": {},
   "outputs": [],
   "source": [
    "from ipywidgets import widgets\n",
    "import numpy as np\n",
    "import pandas as pd\n",
    "import pulp\n",
    "\n",
    "\n",
    "# CONSTANTS\n",
    "PLANTS_TIERS = {'radiant': '金品质', 'flourishing': '紫品质',\n",
    "                'hardy': '蓝品质', 'feeble': '白品质'}\n",
    "\n",
    "PLANTS_I18N = {'fanged_geranium': '毒牙天竺葵', 'rose': '玫瑰',\n",
    "               'puffapod': '泡泡豆荚', 'nifflers_fancy': '嗅幻草',\n",
    "               'ladys_mantle': '羽衣草', 'mandrake': '曼德拉草',\n",
    "               'chinese_chomping_cabbage': '中国咬人甘蓝',\n",
    "               'peony': '牡丹', 'begonia': '秋海棠',\n",
    "               'mayflower': '五月花', 'hydrangea': '绣球'}"
   ]
  },
  {
   "cell_type": "code",
   "execution_count": 2,
   "id": "abeb6028-3268-497a-ba3c-4311f40a512d",
   "metadata": {},
   "outputs": [],
   "source": [
    "# 导入产品相关数据\n",
    "df = pd.read_csv('plants.csv')\n",
    "\n",
    "# 转换为 Categorical 类\n",
    "df['species'] = pd.Categorical(df['species'])\n",
    "df['tier'] = pd.Categorical(df['tier'])\n",
    "\n",
    "\n",
    "# 去除含有 NaN 的行\n",
    "df = df.dropna(subset=['gold'])\n",
    "\n",
    "df = df.astype({'gold': int, 'gems': int, 'exp': float,\n",
    "                'seed_price': int, 'harvest_time': int,\n",
    "                'moisture': int, 'light': int,\n",
    "                'emotional': int, 'pests': int})\n",
    "\n",
    "# print(df.dtypes)\n",
    "# df"
   ]
  },
  {
   "cell_type": "code",
   "execution_count": 3,
   "id": "fcb66625-eb2e-4800-a51d-8bb5bd5e864e",
   "metadata": {},
   "outputs": [
    {
     "data": {
      "application/vnd.jupyter.widget-view+json": {
       "model_id": "f24cd06e104441c7af7cf1584e9c704f",
       "version_major": 2,
       "version_minor": 0
      },
      "text/plain": [
       "IntText(value=0, description='金品质_毒牙天竺葵', layout=Layout(width='400px'), style=DescriptionStyle(description_wid…"
      ]
     },
     "metadata": {},
     "output_type": "display_data"
    },
    {
     "data": {
      "application/vnd.jupyter.widget-view+json": {
       "model_id": "3b07e31314f54e6d9ed3b2aa487d9b76",
       "version_major": 2,
       "version_minor": 0
      },
      "text/plain": [
       "IntText(value=0, description='紫品质_毒牙天竺葵', layout=Layout(width='400px'), style=DescriptionStyle(description_wid…"
      ]
     },
     "metadata": {},
     "output_type": "display_data"
    },
    {
     "data": {
      "application/vnd.jupyter.widget-view+json": {
       "model_id": "b60751c69d2e47f5afcbf30049b3fc30",
       "version_major": 2,
       "version_minor": 0
      },
      "text/plain": [
       "IntText(value=0, description='蓝品质_毒牙天竺葵', layout=Layout(width='400px'), style=DescriptionStyle(description_wid…"
      ]
     },
     "metadata": {},
     "output_type": "display_data"
    },
    {
     "data": {
      "application/vnd.jupyter.widget-view+json": {
       "model_id": "b01989decd974472a3d87b0a2a323b80",
       "version_major": 2,
       "version_minor": 0
      },
      "text/plain": [
       "IntText(value=0, description='金品质_玫瑰', layout=Layout(width='400px'), style=DescriptionStyle(description_width=…"
      ]
     },
     "metadata": {},
     "output_type": "display_data"
    },
    {
     "data": {
      "application/vnd.jupyter.widget-view+json": {
       "model_id": "1eb125fc869c4833ba79abff2e3e765d",
       "version_major": 2,
       "version_minor": 0
      },
      "text/plain": [
       "IntText(value=0, description='紫品质_玫瑰', layout=Layout(width='400px'), style=DescriptionStyle(description_width=…"
      ]
     },
     "metadata": {},
     "output_type": "display_data"
    },
    {
     "data": {
      "application/vnd.jupyter.widget-view+json": {
       "model_id": "4accbd1bda9145d8b61a53eb3d7c6fc7",
       "version_major": 2,
       "version_minor": 0
      },
      "text/plain": [
       "IntText(value=0, description='蓝品质_玫瑰', layout=Layout(width='400px'), style=DescriptionStyle(description_width=…"
      ]
     },
     "metadata": {},
     "output_type": "display_data"
    },
    {
     "data": {
      "application/vnd.jupyter.widget-view+json": {
       "model_id": "bb35f52723cb46958aad7bf486c3ca0e",
       "version_major": 2,
       "version_minor": 0
      },
      "text/plain": [
       "IntText(value=0, description='金品质_泡泡豆荚', layout=Layout(width='400px'), style=DescriptionStyle(description_widt…"
      ]
     },
     "metadata": {},
     "output_type": "display_data"
    },
    {
     "data": {
      "application/vnd.jupyter.widget-view+json": {
       "model_id": "b919d430cc364bf5856fd84033eb40f5",
       "version_major": 2,
       "version_minor": 0
      },
      "text/plain": [
       "IntText(value=0, description='紫品质_泡泡豆荚', layout=Layout(width='400px'), style=DescriptionStyle(description_widt…"
      ]
     },
     "metadata": {},
     "output_type": "display_data"
    },
    {
     "data": {
      "application/vnd.jupyter.widget-view+json": {
       "model_id": "e9e240d277334a5497efe51810eb4926",
       "version_major": 2,
       "version_minor": 0
      },
      "text/plain": [
       "IntText(value=0, description='蓝品质_泡泡豆荚', layout=Layout(width='400px'), style=DescriptionStyle(description_widt…"
      ]
     },
     "metadata": {},
     "output_type": "display_data"
    },
    {
     "data": {
      "application/vnd.jupyter.widget-view+json": {
       "model_id": "6030b933b9bd4031853beb44f916b312",
       "version_major": 2,
       "version_minor": 0
      },
      "text/plain": [
       "IntText(value=0, description='金品质_嗅幻草', layout=Layout(width='400px'), style=DescriptionStyle(description_width…"
      ]
     },
     "metadata": {},
     "output_type": "display_data"
    },
    {
     "data": {
      "application/vnd.jupyter.widget-view+json": {
       "model_id": "78c0cdb28734433c86663ccd9a970964",
       "version_major": 2,
       "version_minor": 0
      },
      "text/plain": [
       "IntText(value=0, description='紫品质_嗅幻草', layout=Layout(width='400px'), style=DescriptionStyle(description_width…"
      ]
     },
     "metadata": {},
     "output_type": "display_data"
    },
    {
     "data": {
      "application/vnd.jupyter.widget-view+json": {
       "model_id": "dbbb2071ad074b3cbb922306fc411b53",
       "version_major": 2,
       "version_minor": 0
      },
      "text/plain": [
       "IntText(value=0, description='蓝品质_嗅幻草', layout=Layout(width='400px'), style=DescriptionStyle(description_width…"
      ]
     },
     "metadata": {},
     "output_type": "display_data"
    },
    {
     "data": {
      "application/vnd.jupyter.widget-view+json": {
       "model_id": "c62cb3c31f7241d5b6df0a8c8f18269d",
       "version_major": 2,
       "version_minor": 0
      },
      "text/plain": [
       "IntText(value=0, description='白品质_嗅幻草', layout=Layout(width='400px'), style=DescriptionStyle(description_width…"
      ]
     },
     "metadata": {},
     "output_type": "display_data"
    },
    {
     "data": {
      "application/vnd.jupyter.widget-view+json": {
       "model_id": "e366072fedea4b02a00d1b37e7de9bfd",
       "version_major": 2,
       "version_minor": 0
      },
      "text/plain": [
       "IntText(value=0, description='金品质_羽衣草', layout=Layout(width='400px'), style=DescriptionStyle(description_width…"
      ]
     },
     "metadata": {},
     "output_type": "display_data"
    },
    {
     "data": {
      "application/vnd.jupyter.widget-view+json": {
       "model_id": "d097b7b1251b4ce7a25d85302765a2cf",
       "version_major": 2,
       "version_minor": 0
      },
      "text/plain": [
       "IntText(value=0, description='紫品质_羽衣草', layout=Layout(width='400px'), style=DescriptionStyle(description_width…"
      ]
     },
     "metadata": {},
     "output_type": "display_data"
    },
    {
     "data": {
      "application/vnd.jupyter.widget-view+json": {
       "model_id": "fe3223d9d26645aea9e5bd122a024417",
       "version_major": 2,
       "version_minor": 0
      },
      "text/plain": [
       "IntText(value=0, description='蓝品质_羽衣草', layout=Layout(width='400px'), style=DescriptionStyle(description_width…"
      ]
     },
     "metadata": {},
     "output_type": "display_data"
    },
    {
     "data": {
      "application/vnd.jupyter.widget-view+json": {
       "model_id": "513e177fba0d4fe28aa819f3ae37a9d1",
       "version_major": 2,
       "version_minor": 0
      },
      "text/plain": [
       "IntText(value=0, description='金品质_曼德拉草', layout=Layout(width='400px'), style=DescriptionStyle(description_widt…"
      ]
     },
     "metadata": {},
     "output_type": "display_data"
    },
    {
     "data": {
      "application/vnd.jupyter.widget-view+json": {
       "model_id": "ae1889d1a9eb41beaebb5c6614140f0d",
       "version_major": 2,
       "version_minor": 0
      },
      "text/plain": [
       "IntText(value=0, description='紫品质_曼德拉草', layout=Layout(width='400px'), style=DescriptionStyle(description_widt…"
      ]
     },
     "metadata": {},
     "output_type": "display_data"
    },
    {
     "data": {
      "application/vnd.jupyter.widget-view+json": {
       "model_id": "513f01ffc4214db1a33278de80392f40",
       "version_major": 2,
       "version_minor": 0
      },
      "text/plain": [
       "IntText(value=0, description='蓝品质_曼德拉草', layout=Layout(width='400px'), style=DescriptionStyle(description_widt…"
      ]
     },
     "metadata": {},
     "output_type": "display_data"
    },
    {
     "data": {
      "application/vnd.jupyter.widget-view+json": {
       "model_id": "0e5b970b9d854101b42647354b03362b",
       "version_major": 2,
       "version_minor": 0
      },
      "text/plain": [
       "IntText(value=0, description='金品质_中国咬人甘蓝', layout=Layout(width='400px'), style=DescriptionStyle(description_wi…"
      ]
     },
     "metadata": {},
     "output_type": "display_data"
    },
    {
     "data": {
      "application/vnd.jupyter.widget-view+json": {
       "model_id": "11d5fdefd9ec47698b64fedff75a93ec",
       "version_major": 2,
       "version_minor": 0
      },
      "text/plain": [
       "IntText(value=0, description='紫品质_中国咬人甘蓝', layout=Layout(width='400px'), style=DescriptionStyle(description_wi…"
      ]
     },
     "metadata": {},
     "output_type": "display_data"
    },
    {
     "data": {
      "application/vnd.jupyter.widget-view+json": {
       "model_id": "4134d8e675b64a148bd77197d17cb377",
       "version_major": 2,
       "version_minor": 0
      },
      "text/plain": [
       "IntText(value=0, description='蓝品质_中国咬人甘蓝', layout=Layout(width='400px'), style=DescriptionStyle(description_wi…"
      ]
     },
     "metadata": {},
     "output_type": "display_data"
    },
    {
     "data": {
      "application/vnd.jupyter.widget-view+json": {
       "model_id": "9950ed64c0d94754a3e2bf139d5fd78f",
       "version_major": 2,
       "version_minor": 0
      },
      "text/plain": [
       "IntText(value=0, description='金品质_牡丹', layout=Layout(width='400px'), style=DescriptionStyle(description_width=…"
      ]
     },
     "metadata": {},
     "output_type": "display_data"
    },
    {
     "data": {
      "application/vnd.jupyter.widget-view+json": {
       "model_id": "cf5f90ad147f420481f1abe27b70e294",
       "version_major": 2,
       "version_minor": 0
      },
      "text/plain": [
       "IntText(value=0, description='紫品质_牡丹', layout=Layout(width='400px'), style=DescriptionStyle(description_width=…"
      ]
     },
     "metadata": {},
     "output_type": "display_data"
    },
    {
     "data": {
      "application/vnd.jupyter.widget-view+json": {
       "model_id": "ac499758c67c41c4a20554c55d912b72",
       "version_major": 2,
       "version_minor": 0
      },
      "text/plain": [
       "IntText(value=0, description='蓝品质_牡丹', layout=Layout(width='400px'), style=DescriptionStyle(description_width=…"
      ]
     },
     "metadata": {},
     "output_type": "display_data"
    },
    {
     "data": {
      "application/vnd.jupyter.widget-view+json": {
       "model_id": "e884891dee4142c3b65b03e37f75aba3",
       "version_major": 2,
       "version_minor": 0
      },
      "text/plain": [
       "IntText(value=0, description='白品质_牡丹', layout=Layout(width='400px'), style=DescriptionStyle(description_width=…"
      ]
     },
     "metadata": {},
     "output_type": "display_data"
    },
    {
     "data": {
      "application/vnd.jupyter.widget-view+json": {
       "model_id": "c1ee146024ad400f96bedb20ef60ab9f",
       "version_major": 2,
       "version_minor": 0
      },
      "text/plain": [
       "IntText(value=0, description='金品质_秋海棠', layout=Layout(width='400px'), style=DescriptionStyle(description_width…"
      ]
     },
     "metadata": {},
     "output_type": "display_data"
    },
    {
     "data": {
      "application/vnd.jupyter.widget-view+json": {
       "model_id": "0f5fd59176f248cdaed03684e55efa13",
       "version_major": 2,
       "version_minor": 0
      },
      "text/plain": [
       "IntText(value=0, description='紫品质_秋海棠', layout=Layout(width='400px'), style=DescriptionStyle(description_width…"
      ]
     },
     "metadata": {},
     "output_type": "display_data"
    },
    {
     "data": {
      "application/vnd.jupyter.widget-view+json": {
       "model_id": "7a0a4d92e427480ab8c956bd460c5cc1",
       "version_major": 2,
       "version_minor": 0
      },
      "text/plain": [
       "IntText(value=0, description='金品质_五月花', layout=Layout(width='400px'), style=DescriptionStyle(description_width…"
      ]
     },
     "metadata": {},
     "output_type": "display_data"
    },
    {
     "data": {
      "application/vnd.jupyter.widget-view+json": {
       "model_id": "ab87d7249086419d93614c94f661ab68",
       "version_major": 2,
       "version_minor": 0
      },
      "text/plain": [
       "IntText(value=0, description='金品质_绣球', layout=Layout(width='400px'), style=DescriptionStyle(description_width=…"
      ]
     },
     "metadata": {},
     "output_type": "display_data"
    }
   ],
   "source": [
    "inventory_widgets = {}\n",
    "for index, row in df.iterrows():\n",
    "    inventory_widgets[f\"{row['tier']}_{row['species']}\"] = widgets.IntText(description=f\"{PLANTS_TIERS[row['tier']]}_{PLANTS_I18N[row['species']]}\",\n",
    "                                                                           value=0,\n",
    "                                                                           layout=widgets.Layout(width='400px'),\n",
    "                                                                           style={'description_width': 'initial'},\n",
    "                                                                           positiong='right')\n",
    "    display(inventory_widgets[f\"{row['tier']}_{row['species']}\"])"
   ]
  },
  {
   "cell_type": "code",
   "execution_count": 5,
   "id": "a5e7c9fc-72c9-4f92-b8d6-d278820b4641",
   "metadata": {},
   "outputs": [
    {
     "name": "stdout",
     "output_type": "stream",
     "text": [
      "Welcome to the CBC MILP Solver \n",
      "Version: 2.10.3 \n",
      "Build Date: Dec 15 2019 \n",
      "\n",
      "command line - /home/codespace/.python/current/lib/python3.10/site-packages/pulp/solverdir/cbc/linux/64/cbc /tmp/2ffb532f881e4ede9c2df3a0fa23ef5d-pulp.mps -max -timeMode elapsed -branch -printingOptions all -solution /tmp/2ffb532f881e4ede9c2df3a0fa23ef5d-pulp.sol (default strategy 1)\n",
      "At line 2 NAME          MODEL\n",
      "At line 3 ROWS\n",
      "At line 6 COLUMNS\n",
      "At line 125 RHS\n",
      "At line 127 BOUNDS\n",
      "At line 158 ENDATA\n",
      "Problem MODEL has 1 rows, 30 columns and 28 elements\n",
      "Coin0008I MODEL read with 0 errors\n",
      "Option for timeMode changed from cpu to elapsed\n",
      "Continuous objective value is -103.193 - 0.00 seconds\n",
      "Cgl0004I processed model has 1 rows, 5 columns (5 integer (0 of which binary)) and 5 elements\n",
      "Cutoff increment increased from 1e-05 to 0.9999\n",
      "Cbc0012I Integer solution of 104 found by DiveCoefficient after 0 iterations and 0 nodes (0.00 seconds)\n",
      "Cbc0001I Search completed - best objective 104, took 0 iterations and 0 nodes (0.00 seconds)\n",
      "Cbc0035I Maximum depth 0, 0 variables fixed on reduced cost\n",
      "Cuts at root node changed objective from 103.193 to 103.193\n",
      "Probing was tried 0 times and created 0 cuts of which 0 were active after adding rounds of cuts (0.000 seconds)\n",
      "Gomory was tried 0 times and created 0 cuts of which 0 were active after adding rounds of cuts (0.000 seconds)\n",
      "Knapsack was tried 0 times and created 0 cuts of which 0 were active after adding rounds of cuts (0.000 seconds)\n",
      "Clique was tried 0 times and created 0 cuts of which 0 were active after adding rounds of cuts (0.000 seconds)\n",
      "MixedIntegerRounding2 was tried 0 times and created 0 cuts of which 0 were active after adding rounds of cuts (0.000 seconds)\n",
      "FlowCover was tried 0 times and created 0 cuts of which 0 were active after adding rounds of cuts (0.000 seconds)\n",
      "TwoMirCuts was tried 0 times and created 0 cuts of which 0 were active after adding rounds of cuts (0.000 seconds)\n",
      "ZeroHalf was tried 0 times and created 0 cuts of which 0 were active after adding rounds of cuts (0.000 seconds)\n",
      "\n",
      "Result - Optimal solution found\n",
      "\n",
      "Objective value:                -104.00000000\n",
      "Enumerated nodes:               0\n",
      "Total iterations:               0\n",
      "Time (CPU seconds):             0.00\n",
      "Time (Wallclock seconds):       0.00\n",
      "\n",
      "Option for printingOptions changed from normal to all\n",
      "Total time (CPU seconds):       0.00   (Wallclock seconds):       0.01\n",
      "\n",
      "Optimal solution found:\n",
      "蓝品质_泡泡豆荚: 4\n",
      "紫品质_羽衣草: 2\n",
      "蓝品质_羽衣草: 8\n",
      "金品质_秋海棠: 90\n",
      "Total counts: 38.0\n",
      "Total price: 7500\n"
     ]
    }
   ],
   "source": [
    "# 根据widgets更新植物库存\n",
    "stocks = np.array([inventory_widgets[f\"{row['tier']}_{row['species']}\"].value for index, row in df.iterrows()])\n",
    "\n",
    "# 植物名称列表\n",
    "plants_cn = [f\"{PLANTS_TIERS[row['tier']]}_{PLANTS_I18N[row['species']]}\" for index, row in df.iterrows()]\n",
    "\n",
    "# 植物单价\n",
    "gold = np.array(df['gold'])\n",
    "\n",
    "# 根据沙毕预算设定总价格\n",
    "total_gold = 7500\n",
    "\n",
    "# 创建问题实例，目标是最大化存货数量\n",
    "prob = pulp.LpProblem(\"Maximize_Sale\", pulp.LpMaximize)\n",
    "\n",
    "# 决策变量，售出每种植物的件数，必须是整数\n",
    "x = pulp.LpVariable.dicts(\"x\", range(len(stocks)), lowBound=0, cat='Integer')\n",
    "\n",
    "# 遍历，设置决策变量的上界为库存量\n",
    "for i in range(len(stocks)):\n",
    "    x[i].upBound = stocks[i]\n",
    "\n",
    "# 目标函数：最大化总的存货数量\n",
    "prob += pulp.lpSum([stocks[i] - x[i] for i in range(len(stocks))])\n",
    "\n",
    "# 约束条件：每类产品售出数量乘以单价之和等于总价格\n",
    "prob += pulp.lpSum([gold[i] * x[i] for i in range(len(stocks))]) == total_gold\n",
    "\n",
    "# 求解问题\n",
    "# CBC(Coin-or Branch and Cut)求解器使用分支定界算法来寻找整数规划问题的最优解。\n",
    "solver = pulp.getSolver('PULP_CBC_CMD') \n",
    "prob.solve(solver=solver)\n",
    "\n",
    "# 输出结果\n",
    "if pulp.LpStatus[prob.status] == 'Optimal':\n",
    "    print(\"Optimal solution found:\")\n",
    "    sold = 0\n",
    "    for i, v in x.items():\n",
    "        if v.varValue:\n",
    "            if v.varValue > 0:\n",
    "                print(f'{plants_cn[i]}: {int(v.varValue)}')\n",
    "                sold += int(v.varValue) * gold[i]\n",
    "    print(\"Total stocks:\", pulp.value(prob.objective))\n",
    "    print(\"Total price:\", sold)\n",
    "else:\n",
    "    print(\"No solution found.\")"
   ]
  },
  {
   "cell_type": "markdown",
   "id": "367d6978-7141-40c3-b404-adda64abee79",
   "metadata": {},
   "source": [
    "使用scipy的linprog，只能解决连续的线性规划问题，它不适用于整数规划问题。"
   ]
  },
  {
   "cell_type": "code",
   "execution_count": null,
   "id": "ab184173-40f9-4670-9087-f054d77eb447",
   "metadata": {},
   "outputs": [],
   "source": []
  }
 ],
 "metadata": {
  "kernelspec": {
   "display_name": "Python 3 (ipykernel)",
   "language": "python",
   "name": "python3"
  },
  "language_info": {
   "codemirror_mode": {
    "name": "ipython",
    "version": 3
   },
   "file_extension": ".py",
   "mimetype": "text/x-python",
   "name": "python",
   "nbconvert_exporter": "python",
   "pygments_lexer": "ipython3",
   "version": "3.10.13"
  }
 },
 "nbformat": 4,
 "nbformat_minor": 5
}
