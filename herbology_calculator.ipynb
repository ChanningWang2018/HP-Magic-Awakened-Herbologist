{
 "cells": [
  {
   "cell_type": "code",
   "execution_count": null,
   "id": "f3870be2-b121-4685-98fb-8ac384594e7f",
   "metadata": {},
   "outputs": [],
   "source": [
    "from ipywidgets import widgets\n",
    "import numpy as np\n",
    "import pandas as pd\n",
    "import pulp\n",
    "\n",
    "\n",
    "# CONSTANTS\n",
    "PLANTS_TIERS = {'radiant': '金品质', 'flourishing': '紫品质',\n",
    "                'hardy': '蓝品质', 'feeble': '白品质'}\n",
    "\n",
    "PLANTS_I18N = {'fanged_geranium': '毒牙天竺葵', 'rose': '玫瑰',\n",
    "               'puffapod': '泡泡豆荚', 'nifflers_fancy': '嗅幻草',\n",
    "               'ladys_mantle': '羽衣草', 'mandrake': '曼德拉草',\n",
    "               'chinese_chomping_cabbage': '中国咬人甘蓝',\n",
    "               'peony': '牡丹', 'begonia': '秋海棠',\n",
    "               'mayflower': '五月花', 'hydrangea': '绣球'}"
   ]
  },
  {
   "cell_type": "code",
   "execution_count": null,
   "id": "abeb6028-3268-497a-ba3c-4311f40a512d",
   "metadata": {},
   "outputs": [],
   "source": [
    "# 导入产品相关数据\n",
    "df = pd.read_csv('plants.csv')\n",
    "\n",
    "# 转换为 Categorical 类\n",
    "df['species'] = pd.Categorical(df['species'])\n",
    "df['tier'] = pd.Categorical(df['tier'])\n",
    "\n",
    "\n",
    "# 去除含有 NaN 的行\n",
    "df = df.dropna(subset=['gold'])\n",
    "\n",
    "df = df.astype({'gold': int, 'gems': int, 'exp': float,\n",
    "                'seed_price': int, 'harvest_time': int,\n",
    "                'moisture': int, 'light': int,\n",
    "                'emotional': int, 'pests': int})\n",
    "\n",
    "# print(df.dtypes)\n",
    "# df"
   ]
  },
  {
   "cell_type": "code",
   "execution_count": null,
   "id": "fcb66625-eb2e-4800-a51d-8bb5bd5e864e",
   "metadata": {},
   "outputs": [],
   "source": [
    "inventory_widgets = {}\n",
    "for index, row in df.iterrows():\n",
    "    inventory_widgets[f\"{row['tier']}_{row['species']}\"] = widgets.IntText(description=f\"{PLANTS_TIERS[row['tier']]}_{PLANTS_I18N[row['species']]}\",\n",
    "                                                                           value=0,\n",
    "                                                                           layout=widgets.Layout(width='400px'),\n",
    "                                                                           style={'description_width': 'initial'},\n",
    "                                                                           positiong='right')\n",
    "    display(inventory_widgets[f\"{row['tier']}_{row['species']}\"])"
   ]
  },
  {
   "cell_type": "code",
   "execution_count": null,
   "id": "a5e7c9fc-72c9-4f92-b8d6-d278820b4641",
   "metadata": {},
   "outputs": [],
   "source": [
    "# 根据widgets更新植物库存\n",
    "stocks = np.array([inventory_widgets[f'{row['tier']}_{row['species']}'].value for index, row in df.iterrows()])\n",
    "\n",
    "# 植物名称列表\n",
    "plants_cn = [f'{PLANTS_TIERS[row['tier']]}_{PLANTS_I18N[row['species']]}' for index, row in df.iterrows()]\n",
    "\n",
    "# 植物单价\n",
    "gold = np.array(df['gold'])\n",
    "\n",
    "# 根据沙毕预算设定总价格\n",
    "total_gold = 7500\n",
    "\n",
    "# 创建问题实例，目标是最大化存货数量\n",
    "prob = pulp.LpProblem(\"Maximize_Sale\", pulp.LpMaximize)\n",
    "\n",
    "# 决策变量，售出每种植物的件数，必须是整数\n",
    "x = pulp.LpVariable.dicts(\"x\", range(len(stocks)), lowBound=0, cat='Integer')\n",
    "\n",
    "# 遍历，设置决策变量的上界为库存量\n",
    "for i in range(len(stocks)):\n",
    "    x[i].upBound = stocks[i]\n",
    "\n",
    "# 目标函数：最大化总的存货数量\n",
    "prob += pulp.lpSum([stocks[i] - x[i] for i in range(len(stocks))])\n",
    "\n",
    "# 约束条件：每类产品售出数量乘以单价之和等于总价格\n",
    "prob += pulp.lpSum([gold[i] * x[i] for i in range(len(stocks))]) == total_gold\n",
    "\n",
    "# 求解问题\n",
    "# CBC(Coin-or Branch and Cut)求解器使用分支定界算法来寻找整数规划问题的最优解。\n",
    "solver = pulp.getSolver('PULP_CBC_CMD') \n",
    "prob.solve(solver=solver)\n",
    "\n",
    "# 输出结果\n",
    "if pulp.LpStatus[prob.status] == 'Optimal':\n",
    "    print(\"Optimal solution found:\")\n",
    "    sold = 0\n",
    "    for i, v in x.items():\n",
    "        if v.varValue:\n",
    "            if v.varValue > 0:\n",
    "                print(f'{plants_cn[i]}: {int(v.varValue)}')\n",
    "                sold += int(v.varValue) * gold[i]\n",
    "    print(\"Total counts:\", pulp.value(prob.objective))\n",
    "    print(\"Total price:\", sold)\n",
    "else:\n",
    "    print(\"No solution found.\")"
   ]
  },
  {
   "cell_type": "markdown",
   "id": "367d6978-7141-40c3-b404-adda64abee79",
   "metadata": {},
   "source": [
    "使用scipy的linprog，只能解决连续的线性规划问题，它不适用于整数规划问题。"
   ]
  },
  {
   "cell_type": "code",
   "execution_count": null,
   "id": "ab184173-40f9-4670-9087-f054d77eb447",
   "metadata": {},
   "outputs": [],
   "source": []
  }
 ],
 "metadata": {
  "kernelspec": {
   "display_name": "Python 3 (ipykernel)",
   "language": "python",
   "name": "python3"
  },
  "language_info": {
   "codemirror_mode": {
    "name": "ipython",
    "version": 3
   },
   "file_extension": ".py",
   "mimetype": "text/x-python",
   "name": "python",
   "nbconvert_exporter": "python",
   "pygments_lexer": "ipython3",
   "version": "3.10.13"
  }
 },
 "nbformat": 4,
 "nbformat_minor": 5
}
