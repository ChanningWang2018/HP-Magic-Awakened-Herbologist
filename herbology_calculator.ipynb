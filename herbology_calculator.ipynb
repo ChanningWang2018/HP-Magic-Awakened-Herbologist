{
 "cells": [
  {
   "cell_type": "code",
   "execution_count": 13,
   "id": "f3870be2-b121-4685-98fb-8ac384594e7f",
   "metadata": {},
   "outputs": [],
   "source": [
    "from ipywidgets import widgets\n",
    "import numpy as np\n",
    "import pandas as pd\n",
    "import pulp\n",
    "\n",
    "\n",
    "# CONSTANTS\n",
    "PLANTS_TIERS = {'radiant': '金品质', 'flourishing': '紫品质',\n",
    "                'hardy': '蓝品质', 'feeble': '白品质'}\n",
    "\n",
    "PLANTS_I18N = {'fanged_geranium': '毒牙天竺葵', 'rose': '玫瑰',\n",
    "               'puffapod': '泡泡豆荚', 'nifflers_fancy': '嗅幻草',\n",
    "               'ladys_mantle': '羽衣草', 'mandrake': '曼德拉草',\n",
    "               'chinese_chomping_cabbage': '中国咬人甘蓝',\n",
    "               'peony': '牡丹', 'begonia': '秋海棠',\n",
    "               'mayflower': '五月花', 'hydrangea': '绣球'}"
   ]
  },
  {
   "cell_type": "code",
   "execution_count": 14,
   "id": "abeb6028-3268-497a-ba3c-4311f40a512d",
   "metadata": {},
   "outputs": [],
   "source": [
    "# 导入产品相关数据\n",
    "df = pd.read_csv('plants.csv')\n",
    "\n",
    "# 转换为 Categorical 类\n",
    "df['species'] = pd.Categorical(df['species'])\n",
    "df['tier'] = pd.Categorical(df['tier'])\n",
    "\n",
    "\n",
    "# 去除含有 NaN 的行\n",
    "df = df.dropna(subset=['gold'])\n",
    "\n",
    "df = df.astype({'gold': int, 'gems': int, 'exp': float,\n",
    "                'seed_price': int, 'harvest_time': int,\n",
    "                'moisture': int, 'light': int,\n",
    "                'emotional': int, 'pests': int})\n",
    "\n",
    "# print(df.dtypes)\n",
    "# df"
   ]
  },
  {
   "cell_type": "code",
   "execution_count": 15,
   "id": "fcb66625-eb2e-4800-a51d-8bb5bd5e864e",
   "metadata": {},
   "outputs": [
    {
     "data": {
      "application/vnd.jupyter.widget-view+json": {
       "model_id": "c72e0ff64baa453bb78cde203b38a184",
       "version_major": 2,
       "version_minor": 0
      },
      "text/plain": [
       "IntText(value=0, description='金品质_毒牙天竺葵', layout=Layout(width='400px'), style=DescriptionStyle(description_wid…"
      ]
     },
     "metadata": {},
     "output_type": "display_data"
    },
    {
     "data": {
      "application/vnd.jupyter.widget-view+json": {
       "model_id": "ad0cdc9c041a439fa526e647d2d8e865",
       "version_major": 2,
       "version_minor": 0
      },
      "text/plain": [
       "IntText(value=0, description='紫品质_毒牙天竺葵', layout=Layout(width='400px'), style=DescriptionStyle(description_wid…"
      ]
     },
     "metadata": {},
     "output_type": "display_data"
    },
    {
     "data": {
      "application/vnd.jupyter.widget-view+json": {
       "model_id": "6c5446fc72844698b81c4eb47dbc4806",
       "version_major": 2,
       "version_minor": 0
      },
      "text/plain": [
       "IntText(value=0, description='蓝品质_毒牙天竺葵', layout=Layout(width='400px'), style=DescriptionStyle(description_wid…"
      ]
     },
     "metadata": {},
     "output_type": "display_data"
    },
    {
     "data": {
      "application/vnd.jupyter.widget-view+json": {
       "model_id": "beacba97835c4ed4b97f3d6e29fae879",
       "version_major": 2,
       "version_minor": 0
      },
      "text/plain": [
       "IntText(value=0, description='金品质_玫瑰', layout=Layout(width='400px'), style=DescriptionStyle(description_width=…"
      ]
     },
     "metadata": {},
     "output_type": "display_data"
    },
    {
     "data": {
      "application/vnd.jupyter.widget-view+json": {
       "model_id": "cebe26ed5f3d4b4ab296058122b1f193",
       "version_major": 2,
       "version_minor": 0
      },
      "text/plain": [
       "IntText(value=0, description='紫品质_玫瑰', layout=Layout(width='400px'), style=DescriptionStyle(description_width=…"
      ]
     },
     "metadata": {},
     "output_type": "display_data"
    },
    {
     "data": {
      "application/vnd.jupyter.widget-view+json": {
       "model_id": "edf82130322942c3b272d1797787ca40",
       "version_major": 2,
       "version_minor": 0
      },
      "text/plain": [
       "IntText(value=0, description='蓝品质_玫瑰', layout=Layout(width='400px'), style=DescriptionStyle(description_width=…"
      ]
     },
     "metadata": {},
     "output_type": "display_data"
    },
    {
     "data": {
      "application/vnd.jupyter.widget-view+json": {
       "model_id": "9037f9404c0747db9b13ffd8cb61cd0d",
       "version_major": 2,
       "version_minor": 0
      },
      "text/plain": [
       "IntText(value=0, description='金品质_泡泡豆荚', layout=Layout(width='400px'), style=DescriptionStyle(description_widt…"
      ]
     },
     "metadata": {},
     "output_type": "display_data"
    },
    {
     "data": {
      "application/vnd.jupyter.widget-view+json": {
       "model_id": "76947772667847208a4a741d7ec9c72e",
       "version_major": 2,
       "version_minor": 0
      },
      "text/plain": [
       "IntText(value=0, description='紫品质_泡泡豆荚', layout=Layout(width='400px'), style=DescriptionStyle(description_widt…"
      ]
     },
     "metadata": {},
     "output_type": "display_data"
    },
    {
     "data": {
      "application/vnd.jupyter.widget-view+json": {
       "model_id": "569e10431a7f42e9b517d741f0789fec",
       "version_major": 2,
       "version_minor": 0
      },
      "text/plain": [
       "IntText(value=0, description='蓝品质_泡泡豆荚', layout=Layout(width='400px'), style=DescriptionStyle(description_widt…"
      ]
     },
     "metadata": {},
     "output_type": "display_data"
    },
    {
     "data": {
      "application/vnd.jupyter.widget-view+json": {
       "model_id": "8137756eed4649ca9bdc3a69ff89beba",
       "version_major": 2,
       "version_minor": 0
      },
      "text/plain": [
       "IntText(value=0, description='金品质_嗅幻草', layout=Layout(width='400px'), style=DescriptionStyle(description_width…"
      ]
     },
     "metadata": {},
     "output_type": "display_data"
    },
    {
     "data": {
      "application/vnd.jupyter.widget-view+json": {
       "model_id": "41caffa6c52f41da9b8916011b39c4ff",
       "version_major": 2,
       "version_minor": 0
      },
      "text/plain": [
       "IntText(value=0, description='紫品质_嗅幻草', layout=Layout(width='400px'), style=DescriptionStyle(description_width…"
      ]
     },
     "metadata": {},
     "output_type": "display_data"
    },
    {
     "data": {
      "application/vnd.jupyter.widget-view+json": {
       "model_id": "105691ddca5d4dc1b797727a21653ee7",
       "version_major": 2,
       "version_minor": 0
      },
      "text/plain": [
       "IntText(value=0, description='蓝品质_嗅幻草', layout=Layout(width='400px'), style=DescriptionStyle(description_width…"
      ]
     },
     "metadata": {},
     "output_type": "display_data"
    },
    {
     "data": {
      "application/vnd.jupyter.widget-view+json": {
       "model_id": "d08c3c69a302462598040bbf1b2f5315",
       "version_major": 2,
       "version_minor": 0
      },
      "text/plain": [
       "IntText(value=0, description='白品质_嗅幻草', layout=Layout(width='400px'), style=DescriptionStyle(description_width…"
      ]
     },
     "metadata": {},
     "output_type": "display_data"
    },
    {
     "data": {
      "application/vnd.jupyter.widget-view+json": {
       "model_id": "9ff9b2c2208c421cbfe20796a0c3e1f2",
       "version_major": 2,
       "version_minor": 0
      },
      "text/plain": [
       "IntText(value=0, description='金品质_羽衣草', layout=Layout(width='400px'), style=DescriptionStyle(description_width…"
      ]
     },
     "metadata": {},
     "output_type": "display_data"
    },
    {
     "data": {
      "application/vnd.jupyter.widget-view+json": {
       "model_id": "5c75007630d1434cb8a254d1f2f11953",
       "version_major": 2,
       "version_minor": 0
      },
      "text/plain": [
       "IntText(value=0, description='紫品质_羽衣草', layout=Layout(width='400px'), style=DescriptionStyle(description_width…"
      ]
     },
     "metadata": {},
     "output_type": "display_data"
    },
    {
     "data": {
      "application/vnd.jupyter.widget-view+json": {
       "model_id": "9d26474723eb4f85b9f014eef32c8e4b",
       "version_major": 2,
       "version_minor": 0
      },
      "text/plain": [
       "IntText(value=0, description='蓝品质_羽衣草', layout=Layout(width='400px'), style=DescriptionStyle(description_width…"
      ]
     },
     "metadata": {},
     "output_type": "display_data"
    },
    {
     "data": {
      "application/vnd.jupyter.widget-view+json": {
       "model_id": "ff219a4baab24630a3241c6c95c2863a",
       "version_major": 2,
       "version_minor": 0
      },
      "text/plain": [
       "IntText(value=0, description='金品质_曼德拉草', layout=Layout(width='400px'), style=DescriptionStyle(description_widt…"
      ]
     },
     "metadata": {},
     "output_type": "display_data"
    },
    {
     "data": {
      "application/vnd.jupyter.widget-view+json": {
       "model_id": "c4d7dc4fb921402496579b9ee8e3e74c",
       "version_major": 2,
       "version_minor": 0
      },
      "text/plain": [
       "IntText(value=0, description='紫品质_曼德拉草', layout=Layout(width='400px'), style=DescriptionStyle(description_widt…"
      ]
     },
     "metadata": {},
     "output_type": "display_data"
    },
    {
     "data": {
      "application/vnd.jupyter.widget-view+json": {
       "model_id": "9886d5b758c641c593ffa470412f0f6c",
       "version_major": 2,
       "version_minor": 0
      },
      "text/plain": [
       "IntText(value=0, description='蓝品质_曼德拉草', layout=Layout(width='400px'), style=DescriptionStyle(description_widt…"
      ]
     },
     "metadata": {},
     "output_type": "display_data"
    },
    {
     "data": {
      "application/vnd.jupyter.widget-view+json": {
       "model_id": "e5055eae9f2e4219bc78c05f978de544",
       "version_major": 2,
       "version_minor": 0
      },
      "text/plain": [
       "IntText(value=0, description='金品质_中国咬人甘蓝', layout=Layout(width='400px'), style=DescriptionStyle(description_wi…"
      ]
     },
     "metadata": {},
     "output_type": "display_data"
    },
    {
     "data": {
      "application/vnd.jupyter.widget-view+json": {
       "model_id": "bacbfd48c2d94759a8c82dca66513e8d",
       "version_major": 2,
       "version_minor": 0
      },
      "text/plain": [
       "IntText(value=0, description='紫品质_中国咬人甘蓝', layout=Layout(width='400px'), style=DescriptionStyle(description_wi…"
      ]
     },
     "metadata": {},
     "output_type": "display_data"
    },
    {
     "data": {
      "application/vnd.jupyter.widget-view+json": {
       "model_id": "fefa371b91f74578ab309ba39c729ecd",
       "version_major": 2,
       "version_minor": 0
      },
      "text/plain": [
       "IntText(value=0, description='蓝品质_中国咬人甘蓝', layout=Layout(width='400px'), style=DescriptionStyle(description_wi…"
      ]
     },
     "metadata": {},
     "output_type": "display_data"
    },
    {
     "data": {
      "application/vnd.jupyter.widget-view+json": {
       "model_id": "9194cef618d94f2f8e71593875b8ff8f",
       "version_major": 2,
       "version_minor": 0
      },
      "text/plain": [
       "IntText(value=0, description='金品质_牡丹', layout=Layout(width='400px'), style=DescriptionStyle(description_width=…"
      ]
     },
     "metadata": {},
     "output_type": "display_data"
    },
    {
     "data": {
      "application/vnd.jupyter.widget-view+json": {
       "model_id": "a178d6d2787a401da819c15de5eb2479",
       "version_major": 2,
       "version_minor": 0
      },
      "text/plain": [
       "IntText(value=0, description='紫品质_牡丹', layout=Layout(width='400px'), style=DescriptionStyle(description_width=…"
      ]
     },
     "metadata": {},
     "output_type": "display_data"
    },
    {
     "data": {
      "application/vnd.jupyter.widget-view+json": {
       "model_id": "261809bce6194dee849dab23b2687fbb",
       "version_major": 2,
       "version_minor": 0
      },
      "text/plain": [
       "IntText(value=0, description='蓝品质_牡丹', layout=Layout(width='400px'), style=DescriptionStyle(description_width=…"
      ]
     },
     "metadata": {},
     "output_type": "display_data"
    },
    {
     "data": {
      "application/vnd.jupyter.widget-view+json": {
       "model_id": "f2386672ac4e46678e273e32a063e7be",
       "version_major": 2,
       "version_minor": 0
      },
      "text/plain": [
       "IntText(value=0, description='白品质_牡丹', layout=Layout(width='400px'), style=DescriptionStyle(description_width=…"
      ]
     },
     "metadata": {},
     "output_type": "display_data"
    },
    {
     "data": {
      "application/vnd.jupyter.widget-view+json": {
       "model_id": "aa5012dd8fe443dab9046a2411374a18",
       "version_major": 2,
       "version_minor": 0
      },
      "text/plain": [
       "IntText(value=0, description='金品质_秋海棠', layout=Layout(width='400px'), style=DescriptionStyle(description_width…"
      ]
     },
     "metadata": {},
     "output_type": "display_data"
    },
    {
     "data": {
      "application/vnd.jupyter.widget-view+json": {
       "model_id": "b7b1b612dd99444a8a9fc58f84d74af8",
       "version_major": 2,
       "version_minor": 0
      },
      "text/plain": [
       "IntText(value=0, description='紫品质_秋海棠', layout=Layout(width='400px'), style=DescriptionStyle(description_width…"
      ]
     },
     "metadata": {},
     "output_type": "display_data"
    },
    {
     "data": {
      "application/vnd.jupyter.widget-view+json": {
       "model_id": "5e7be25a61034753bf1e0573cd134d13",
       "version_major": 2,
       "version_minor": 0
      },
      "text/plain": [
       "IntText(value=0, description='金品质_五月花', layout=Layout(width='400px'), style=DescriptionStyle(description_width…"
      ]
     },
     "metadata": {},
     "output_type": "display_data"
    },
    {
     "data": {
      "application/vnd.jupyter.widget-view+json": {
       "model_id": "4972f73de6ec41ada5a17c3767b30b0d",
       "version_major": 2,
       "version_minor": 0
      },
      "text/plain": [
       "IntText(value=0, description='金品质_绣球', layout=Layout(width='400px'), style=DescriptionStyle(description_width=…"
      ]
     },
     "metadata": {},
     "output_type": "display_data"
    }
   ],
   "source": [
    "inventory_widgets = {}\n",
    "for index, row in df.iterrows():\n",
    "    inventory_widgets[f'{row['tier']}_{row['species']}'] = widgets.IntText(description=f'{PLANTS_TIERS[row['tier']]}_{PLANTS_I18N[row['species']]}',\n",
    "                                                                           value=0,\n",
    "                                                                           layout=widgets.Layout(width='400px'),\n",
    "                                                                           style={'description_width': 'initial'},\n",
    "                                                                           positiong='right')\n",
    "    display(inventory_widgets[f'{row['tier']}_{row['species']}'])"
   ]
  },
  {
   "cell_type": "code",
   "execution_count": 16,
   "id": "a5e7c9fc-72c9-4f92-b8d6-d278820b4641",
   "metadata": {},
   "outputs": [
    {
     "name": "stdout",
     "output_type": "stream",
     "text": [
      "Optimal solution found:\n",
      "蓝品质_羽衣草: 3\n",
      "金品质_秋海棠: 101\n",
      "Total counts: 55.0\n",
      "Total price: 7500\n"
     ]
    }
   ],
   "source": [
    "# 根据widgets更新植物库存\n",
    "stocks = np.array([inventory_widgets[f'{row['tier']}_{row['species']}'].value for index, row in df.iterrows()])\n",
    "\n",
    "# 植物名称列表\n",
    "plants_cn = [f'{PLANTS_TIERS[row['tier']]}_{PLANTS_I18N[row['species']]}' for index, row in df.iterrows()]\n",
    "\n",
    "# 植物单价\n",
    "gold = np.array(df['gold'])\n",
    "\n",
    "# 根据沙毕预算设定总价格\n",
    "total_gold = 7500\n",
    "\n",
    "# 创建问题实例，目标是最大化存货数量\n",
    "prob = pulp.LpProblem(\"Maximize_Sale\", pulp.LpMaximize)\n",
    "\n",
    "# 决策变量，售出每种植物的件数，必须是整数\n",
    "x = pulp.LpVariable.dicts(\"x\", range(len(stocks)), lowBound=0, cat='Integer')\n",
    "\n",
    "# 遍历，设置决策变量的上界为库存量\n",
    "for i in range(len(stocks)):\n",
    "    x[i].upBound = stocks[i]\n",
    "\n",
    "# 目标函数：最大化总的存货数量\n",
    "prob += pulp.lpSum([stocks[i] - x[i] for i in range(len(stocks))])\n",
    "\n",
    "# 约束条件：每类产品售出数量乘以单价之和等于总价格\n",
    "prob += pulp.lpSum([gold[i] * x[i] for i in range(len(stocks))]) == total_gold\n",
    "\n",
    "# 求解问题\n",
    "# CBC(Coin-or Branch and Cut)求解器使用分支定界算法来寻找整数规划问题的最优解。\n",
    "solver = pulp.getSolver('PULP_CBC_CMD') \n",
    "prob.solve(solver=solver)\n",
    "\n",
    "# 输出结果\n",
    "if pulp.LpStatus[prob.status] == 'Optimal':\n",
    "    print(\"Optimal solution found:\")\n",
    "    sold = 0\n",
    "    for i, v in x.items():\n",
    "        if v.varValue:\n",
    "            if v.varValue > 0:\n",
    "                print(f'{plants_cn[i]}: {int(v.varValue)}')\n",
    "                sold += int(v.varValue) * gold[i]\n",
    "    print(\"Total counts:\", pulp.value(prob.objective))\n",
    "    print(\"Total price:\", sold)\n",
    "else:\n",
    "    print(\"No solution found.\")"
   ]
  },
  {
   "cell_type": "markdown",
   "id": "367d6978-7141-40c3-b404-adda64abee79",
   "metadata": {},
   "source": [
    "使用scipy的linprog，只能解决连续的线性规划问题，它不适用于整数规划问题。"
   ]
  },
  {
   "cell_type": "code",
   "execution_count": null,
   "id": "ab184173-40f9-4670-9087-f054d77eb447",
   "metadata": {},
   "outputs": [],
   "source": []
  }
 ],
 "metadata": {
  "kernelspec": {
   "display_name": "Python 3 (ipykernel)",
   "language": "python",
   "name": "python3"
  },
  "language_info": {
   "codemirror_mode": {
    "name": "ipython",
    "version": 3
   },
   "file_extension": ".py",
   "mimetype": "text/x-python",
   "name": "python",
   "nbconvert_exporter": "python",
   "pygments_lexer": "ipython3",
   "version": "3.12.3"
  }
 },
 "nbformat": 4,
 "nbformat_minor": 5
}
